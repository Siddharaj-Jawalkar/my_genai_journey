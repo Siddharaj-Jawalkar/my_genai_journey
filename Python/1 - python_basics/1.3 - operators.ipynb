{
 "cells": [
  {
   "cell_type": "markdown",
   "id": "ebb8e824",
   "metadata": {},
   "source": [
    "# Deep Dive into Operators\n",
    "Script Outline:\n",
    "1. Introduction to Operators\n",
    "2. Arithmetic Operators\n",
    "- Addition\n",
    "- Subtraction\n",
    "- Multiplication\n",
    "- Division\n",
    "- Floor Division\n",
    "- Modulus\n",
    "- Exponentiation\n",
    "3. Comparison Operators\n",
    "- Equal to\n",
    "- Not equal to\n",
    "- Greater than\n",
    "- Less than\n",
    "- Greater than or equal to\n",
    "- Less than or equal to\n",
    "4. Logical Operators\n",
    "- AND\n",
    "- OR\n",
    "- NOT\n",
    "5. Practical Examples and Common Errors"
   ]
  },
  {
   "cell_type": "code",
   "execution_count": 1,
   "id": "20e71fb3",
   "metadata": {},
   "outputs": [
    {
     "name": "stdout",
     "output_type": "stream",
     "text": [
      "15\n",
      "5\n",
      "50\n",
      "2.0\n",
      "2\n",
      "0\n",
      "100000\n"
     ]
    }
   ],
   "source": [
    "\n",
    "## Arithmethic Operation\n",
    "a = 10\n",
    "b = 5\n",
    "\n",
    "add_result = a + b  #addition\n",
    "sub_result = a - b  #substraction\n",
    "mult_result = a * b #multiplication\n",
    "div_result = a / b  #division\n",
    "floor_result = a // b   #flooe division\n",
    "modulus_result = a%b    #modulus operation\n",
    "exponent_result = a**b  #Exponentiation \n",
    "\n",
    "print(add_result)\n",
    "print(sub_result)\n",
    "print(mult_result)\n",
    "print(div_result)\n",
    "print(floor_result)\n",
    "print(modulus_result)\n",
    "print(exponent_result)"
   ]
  },
  {
   "cell_type": "code",
   "execution_count": null,
   "id": "b1c98c52",
   "metadata": {},
   "outputs": [],
   "source": []
  }
 ],
 "metadata": {
  "kernelspec": {
   "display_name": "Python 3",
   "language": "python",
   "name": "python3"
  },
  "language_info": {
   "codemirror_mode": {
    "name": "ipython",
    "version": 3
   },
   "file_extension": ".py",
   "mimetype": "text/x-python",
   "name": "python",
   "nbconvert_exporter": "python",
   "pygments_lexer": "ipython3",
   "version": "3.12.10"
  }
 },
 "nbformat": 4,
 "nbformat_minor": 5
}
